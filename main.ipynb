{
 "cells": [
  {
   "cell_type": "code",
   "execution_count": 1,
   "id": "c64c12b2",
   "metadata": {},
   "outputs": [],
   "source": [
    "import cv2"
   ]
  },
  {
   "cell_type": "code",
   "execution_count": 2,
   "id": "33d08018",
   "metadata": {},
   "outputs": [],
   "source": [
    "#carregar modelo\n",
    "face_cascade= cv2.CascadeClassifier(cv2.data.haarcascades + \"haarcascade_frontalface_default.xml\")\n"
   ]
  },
  {
   "cell_type": "code",
   "execution_count": 3,
   "id": "356dbb59",
   "metadata": {},
   "outputs": [],
   "source": [
    "#carregar img\n",
    "img = cv2.imread(\"rostos.jpg\")\n",
    "\n"
   ]
  },
  {
   "cell_type": "code",
   "execution_count": 4,
   "id": "0f99862b",
   "metadata": {},
   "outputs": [],
   "source": [
    "#converter p escala em cinza\n",
    "gray= cv2.cvtColor(img, cv2.COLOR_BGR2GRAY)\n",
    "#cv2.imshow(\"gray\", gray)\n",
    "#cv2.waitKey() "
   ]
  },
  {
   "cell_type": "code",
   "execution_count": 5,
   "id": "dc924dee",
   "metadata": {},
   "outputs": [],
   "source": [
    "#detecta rostos\n",
    "faces=face_cascade.detectMultiScale(gray, 1.1, 4)"
   ]
  },
  {
   "cell_type": "code",
   "execution_count": 6,
   "id": "6be8cc38",
   "metadata": {},
   "outputs": [],
   "source": [
    "#desenha no rosto\n",
    "for (x,y,w,h) in faces:\n",
    "    cv2.rectangle(img,(x,y),(x+w, y+h),(255,0,0), 2)"
   ]
  },
  {
   "cell_type": "code",
   "execution_count": null,
   "id": "89f4d004",
   "metadata": {},
   "outputs": [],
   "source": [
    "#mostra resultado\n",
    "cv2.imshow(\"img\", img)\n",
    "cv2.waitKey() "
   ]
  },
  {
   "cell_type": "code",
   "execution_count": null,
   "id": "59089b52",
   "metadata": {},
   "outputs": [],
   "source": []
  }
 ],
 "metadata": {
  "kernelspec": {
   "display_name": "Python 3 (ipykernel)",
   "language": "python",
   "name": "python3"
  },
  "language_info": {
   "codemirror_mode": {
    "name": "ipython",
    "version": 3
   },
   "file_extension": ".py",
   "mimetype": "text/x-python",
   "name": "python",
   "nbconvert_exporter": "python",
   "pygments_lexer": "ipython3",
   "version": "3.7.3"
  }
 },
 "nbformat": 4,
 "nbformat_minor": 5
}
